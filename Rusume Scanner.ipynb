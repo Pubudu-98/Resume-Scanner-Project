{
 "cells": [
  {
   "cell_type": "markdown",
   "id": "0ecf0b7d",
   "metadata": {},
   "source": [
    "Rusume Scanner Using NLP"
   ]
  },
  {
   "cell_type": "code",
   "execution_count": null,
   "id": "ced422fa",
   "metadata": {},
   "outputs": [],
   "source": [
    "!pip install docx2txt # This docx2txt library is used to convert word file to text file"
   ]
  },
  {
   "cell_type": "code",
   "execution_count": null,
   "id": "de4fca1f",
   "metadata": {},
   "outputs": [],
   "source": [
    "import docx2txt # Word to Text file"
   ]
  },
  {
   "cell_type": "code",
   "execution_count": null,
   "id": "e5bd41d0",
   "metadata": {},
   "outputs": [],
   "source": [
    "resume = docx2txt.process('') # Add file path for specific resume.\n",
    "job_description = docx2txt.process('') # Add job description to match the job.\n",
    "print(resume) # This will print the resume in a text file.\n",
    "\n",
    "results = [resume, job_description]\n",
    "\n",
    "from sklearn.feature_extraction.text import CountVectorizer # This convert our text to vectors\n",
    "cv = CounterVectorizer()\n",
    "matrix = cv.fit_transform(results)\n",
    "\n",
    "from sklearn.metrics.pairwise import cosine_similarity # This checks for similarity in resumes.\n",
    "similarity = cosine_similarity(matrix)\n",
    "\n",
    "print(similarity) # Print the job match in percentage\n",
    "print(\"Resume matches by: \" + str(similarity) + '%') # Final Output with the results."
   ]
  }
 ],
 "metadata": {
  "kernelspec": {
   "display_name": "Python 3 (ipykernel)",
   "language": "python",
   "name": "python3"
  },
  "language_info": {
   "codemirror_mode": {
    "name": "ipython",
    "version": 3
   },
   "file_extension": ".py",
   "mimetype": "text/x-python",
   "name": "python",
   "nbconvert_exporter": "python",
   "pygments_lexer": "ipython3",
   "version": "3.9.13"
  }
 },
 "nbformat": 4,
 "nbformat_minor": 5
}
